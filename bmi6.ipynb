{
  "cells": [
    {
      "cell_type": "markdown",
      "metadata": {
        "id": "view-in-github",
        "colab_type": "text"
      },
      "source": [
        "<a href=\"https://colab.research.google.com/github/cherry135github/OIB-SIP/blob/main/bmi6.ipynb\" target=\"_parent\"><img src=\"https://colab.research.google.com/assets/colab-badge.svg\" alt=\"Open In Colab\"/></a>"
      ]
    },
    {
      "cell_type": "code",
      "execution_count": 1,
      "metadata": {
        "colab": {
          "base_uri": "https://localhost:8080/"
        },
        "id": "2lOQKI4dYCH4",
        "outputId": "7da76ba3-ca14-44ae-8b5c-ef7ef56b0fba",
        "collapsed": true
      },
      "outputs": [
        {
          "output_type": "stream",
          "name": "stdout",
          "text": [
            " BMI calculator!!!\n",
            "Enter weight in kgs: 78.9\n",
            "Enter height in inches: 45.9\n",
            " BMI is: 0.04\n",
            "You are: Under weight\n",
            "!!!!!\n"
          ]
        }
      ],
      "source": [
        "# Define a function to calculate BMI\n",
        "def cal_BMI(weight, height):\n",
        "# Calculate BMI using the formula: BMI = weight (in kg) / height (in meters) squared\n",
        "  BMI= weight / (height ** 2)\n",
        "  return BMI\n",
        "\n",
        "# Define a function to determine the BMI category\n",
        "def determine_BMI_category(BMI):\n",
        "  if BMI < 1.0:\n",
        "    return \"Under weight\"\n",
        "  elif BMI < 2.0:\n",
        "    return \"Normal weight\"\n",
        "  elif BMI < 3.0:\n",
        "    return \"Over weight\"\n",
        "  else:\n",
        "    return \"unacceptable\"\n",
        "\n",
        "# Define a function to get user input and calculate BMI\n",
        "def main():\n",
        "  print(\" BMI calculator!!!\")\n",
        "  weight = float(input(\"Enter weight in kgs: \"))\n",
        "  height = float(input(\"Enter height in inches: \"))\n",
        "\n",
        "  # Calculate and print the BMI\n",
        "  BMI = cal_BMI(weight, height)\n",
        "  print(\" BMI is: {:.2f}\".format(BMI))\n",
        "\n",
        "  # Determine and print the BMI category\n",
        "  category = determine_BMI_category(BMI)\n",
        "  print(\"You are: {}\".format(category))\n",
        "  print(\"!!!!!\")\n",
        "\n",
        "# Run the main function\n",
        "if __name__==\"__main__\":\n",
        "  main()"
      ]
    },
    {
      "cell_type": "code",
      "source": [],
      "metadata": {
        "id": "RP0rQ-Uwp_Dd"
      },
      "execution_count": null,
      "outputs": []
    }
  ],
  "metadata": {
    "colab": {
      "provenance": [],
      "authorship_tag": "ABX9TyMi2aj/5RABSRLOc9dqSXsi",
      "include_colab_link": true
    },
    "kernelspec": {
      "display_name": "Python 3",
      "name": "python3"
    },
    "language_info": {
      "name": "python"
    }
  },
  "nbformat": 4,
  "nbformat_minor": 0
}