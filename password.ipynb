import random
import string
def generate_password(len=15):
    char = string.ascii_letters + string.digits + string.punctuation
    password = "".join(random.choice(char) for i in range(len))
    return password

# Generate a password of length 12
print("Generated Password:", generate_password(15))   
