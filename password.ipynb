{
  "nbformat": 4,
  "nbformat_minor": 0,
  "metadata": {
    "colab": {
      "provenance": [],
      "authorship_tag": "ABX9TyPdEPBGH2cCXFISk1GUIUgp",
      "include_colab_link": true
    },
    "kernelspec": {
      "name": "python3",
      "display_name": "Python 3"
    },
    "language_info": {
      "name": "python"
    }
  },
  "cells": [
    {
      "cell_type": "markdown",
      "metadata": {
        "id": "view-in-github",
        "colab_type": "text"
      },
      "source": [
        "<a href=\"https://colab.research.google.com/github/cherry135github/OIB-SIP/blob/main/password.ipynb\" target=\"_parent\"><img src=\"https://colab.research.google.com/assets/colab-badge.svg\" alt=\"Open In Colab\"/></a>"
      ]
    },
    {
      "cell_type": "code",
      "source": [
        "import random\n",
        "import string\n",
        "def generate_password(len=15):\n",
        "    char = string.ascii_letters + string.digits + string.punctuation\n",
        "    password = \"\".join(random.choice(char) for i in range(len))\n",
        "    return password\n",
        "\n",
        "# Generate a password of length 12\n",
        "print(\"Generated Password:\", generate_password(15))"
      ],
      "metadata": {
        "colab": {
          "base_uri": "https://localhost:8080/"
        },
        "id": "1rhlwI8eBWoL",
        "outputId": "6da7955d-bb3f-4e5d-ca17-cf79b7dc6d82",
        "collapsed": true
      },
      "execution_count": 2,
      "outputs": [
        {
          "output_type": "stream",
          "name": "stdout",
          "text": [
            "Generated Password: HXP+.%UxA}PH~F{\n"
          ]
        }
      ]
    }
  ]
}